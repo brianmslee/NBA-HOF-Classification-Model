{
 "cells": [
  {
   "cell_type": "code",
   "execution_count": 1,
   "metadata": {},
   "outputs": [
    {
     "data": {
      "application/javascript": "(function(root) {\n  function now() {\n    return new Date();\n  }\n\n  var force = true;\n  var py_version = '3.2.1'.replace('rc', '-rc.').replace('.dev', '-dev.');\n  var is_dev = py_version.indexOf(\"+\") !== -1 || py_version.indexOf(\"-\") !== -1;\n  var reloading = false;\n  var Bokeh = root.Bokeh;\n  var bokeh_loaded = Bokeh != null && (Bokeh.version === py_version || (Bokeh.versions !== undefined && Bokeh.versions.has(py_version)));\n\n  if (typeof (root._bokeh_timeout) === \"undefined\" || force) {\n    root._bokeh_timeout = Date.now() + 5000;\n    root._bokeh_failed_load = false;\n  }\n\n  function run_callbacks() {\n    try {\n      root._bokeh_onload_callbacks.forEach(function(callback) {\n        if (callback != null)\n          callback();\n      });\n    } finally {\n      delete root._bokeh_onload_callbacks;\n    }\n    console.debug(\"Bokeh: all callbacks have finished\");\n  }\n\n  function load_libs(css_urls, js_urls, js_modules, js_exports, callback) {\n    if (css_urls == null) css_urls = [];\n    if (js_urls == null) js_urls = [];\n    if (js_modules == null) js_modules = [];\n    if (js_exports == null) js_exports = {};\n\n    root._bokeh_onload_callbacks.push(callback);\n\n    if (root._bokeh_is_loading > 0) {\n      console.debug(\"Bokeh: BokehJS is being loaded, scheduling callback at\", now());\n      return null;\n    }\n    if (js_urls.length === 0 && js_modules.length === 0 && Object.keys(js_exports).length === 0) {\n      run_callbacks();\n      return null;\n    }\n    if (!reloading) {\n      console.debug(\"Bokeh: BokehJS not loaded, scheduling load and callback at\", now());\n    }\n\n    function on_load() {\n      root._bokeh_is_loading--;\n      if (root._bokeh_is_loading === 0) {\n        console.debug(\"Bokeh: all BokehJS libraries/stylesheets loaded\");\n        run_callbacks()\n      }\n    }\n    window._bokeh_on_load = on_load\n\n    function on_error() {\n      console.error(\"failed to load \" + url);\n    }\n\n    var skip = [];\n    if (window.requirejs) {\n      window.requirejs.config({'packages': {}, 'paths': {'jspanel': 'https://cdn.jsdelivr.net/npm/jspanel4@4.12.0/dist/jspanel', 'jspanel-modal': 'https://cdn.jsdelivr.net/npm/jspanel4@4.12.0/dist/extensions/modal/jspanel.modal', 'jspanel-tooltip': 'https://cdn.jsdelivr.net/npm/jspanel4@4.12.0/dist/extensions/tooltip/jspanel.tooltip', 'jspanel-hint': 'https://cdn.jsdelivr.net/npm/jspanel4@4.12.0/dist/extensions/hint/jspanel.hint', 'jspanel-layout': 'https://cdn.jsdelivr.net/npm/jspanel4@4.12.0/dist/extensions/layout/jspanel.layout', 'jspanel-contextmenu': 'https://cdn.jsdelivr.net/npm/jspanel4@4.12.0/dist/extensions/contextmenu/jspanel.contextmenu', 'jspanel-dock': 'https://cdn.jsdelivr.net/npm/jspanel4@4.12.0/dist/extensions/dock/jspanel.dock', 'gridstack': 'https://cdn.jsdelivr.net/npm/gridstack@7.2.3/dist/gridstack-all', 'notyf': 'https://cdn.jsdelivr.net/npm/notyf@3/notyf.min'}, 'shim': {'jspanel': {'exports': 'jsPanel'}, 'gridstack': {'exports': 'GridStack'}}});\n      require([\"jspanel\"], function(jsPanel) {\n\twindow.jsPanel = jsPanel\n\ton_load()\n      })\n      require([\"jspanel-modal\"], function() {\n\ton_load()\n      })\n      require([\"jspanel-tooltip\"], function() {\n\ton_load()\n      })\n      require([\"jspanel-hint\"], function() {\n\ton_load()\n      })\n      require([\"jspanel-layout\"], function() {\n\ton_load()\n      })\n      require([\"jspanel-contextmenu\"], function() {\n\ton_load()\n      })\n      require([\"jspanel-dock\"], function() {\n\ton_load()\n      })\n      require([\"gridstack\"], function(GridStack) {\n\twindow.GridStack = GridStack\n\ton_load()\n      })\n      require([\"notyf\"], function() {\n\ton_load()\n      })\n      root._bokeh_is_loading = css_urls.length + 9;\n    } else {\n      root._bokeh_is_loading = css_urls.length + js_urls.length + js_modules.length + Object.keys(js_exports).length;\n    }\n\n    var existing_stylesheets = []\n    var links = document.getElementsByTagName('link')\n    for (var i = 0; i < links.length; i++) {\n      var link = links[i]\n      if (link.href != null) {\n\texisting_stylesheets.push(link.href)\n      }\n    }\n    for (var i = 0; i < css_urls.length; i++) {\n      var url = css_urls[i];\n      if (existing_stylesheets.indexOf(url) !== -1) {\n\ton_load()\n\tcontinue;\n      }\n      const element = document.createElement(\"link\");\n      element.onload = on_load;\n      element.onerror = on_error;\n      element.rel = \"stylesheet\";\n      element.type = \"text/css\";\n      element.href = url;\n      console.debug(\"Bokeh: injecting link tag for BokehJS stylesheet: \", url);\n      document.body.appendChild(element);\n    }    if (((window['jsPanel'] !== undefined) && (!(window['jsPanel'] instanceof HTMLElement))) || window.requirejs) {\n      var urls = ['https://cdn.holoviz.org/panel/1.2.1/dist/bundled/floatpanel/jspanel4@4.12.0/dist/jspanel.js', 'https://cdn.holoviz.org/panel/1.2.1/dist/bundled/floatpanel/jspanel4@4.12.0/dist/extensions/modal/jspanel.modal.js', 'https://cdn.holoviz.org/panel/1.2.1/dist/bundled/floatpanel/jspanel4@4.12.0/dist/extensions/tooltip/jspanel.tooltip.js', 'https://cdn.holoviz.org/panel/1.2.1/dist/bundled/floatpanel/jspanel4@4.12.0/dist/extensions/hint/jspanel.hint.js', 'https://cdn.holoviz.org/panel/1.2.1/dist/bundled/floatpanel/jspanel4@4.12.0/dist/extensions/layout/jspanel.layout.js', 'https://cdn.holoviz.org/panel/1.2.1/dist/bundled/floatpanel/jspanel4@4.12.0/dist/extensions/contextmenu/jspanel.contextmenu.js', 'https://cdn.holoviz.org/panel/1.2.1/dist/bundled/floatpanel/jspanel4@4.12.0/dist/extensions/dock/jspanel.dock.js'];\n      for (var i = 0; i < urls.length; i++) {\n        skip.push(urls[i])\n      }\n    }    if (((window['GridStack'] !== undefined) && (!(window['GridStack'] instanceof HTMLElement))) || window.requirejs) {\n      var urls = ['https://cdn.holoviz.org/panel/1.2.1/dist/bundled/gridstack/gridstack@7.2.3/dist/gridstack-all.js'];\n      for (var i = 0; i < urls.length; i++) {\n        skip.push(urls[i])\n      }\n    }    if (((window['Notyf'] !== undefined) && (!(window['Notyf'] instanceof HTMLElement))) || window.requirejs) {\n      var urls = ['https://cdn.holoviz.org/panel/1.2.1/dist/bundled/notificationarea/notyf@3/notyf.min.js'];\n      for (var i = 0; i < urls.length; i++) {\n        skip.push(urls[i])\n      }\n    }    var existing_scripts = []\n    var scripts = document.getElementsByTagName('script')\n    for (var i = 0; i < scripts.length; i++) {\n      var script = scripts[i]\n      if (script.src != null) {\n\texisting_scripts.push(script.src)\n      }\n    }\n    for (var i = 0; i < js_urls.length; i++) {\n      var url = js_urls[i];\n      if (skip.indexOf(url) !== -1 || existing_scripts.indexOf(url) !== -1) {\n\tif (!window.requirejs) {\n\t  on_load();\n\t}\n\tcontinue;\n      }\n      var element = document.createElement('script');\n      element.onload = on_load;\n      element.onerror = on_error;\n      element.async = false;\n      element.src = url;\n      console.debug(\"Bokeh: injecting script tag for BokehJS library: \", url);\n      document.head.appendChild(element);\n    }\n    for (var i = 0; i < js_modules.length; i++) {\n      var url = js_modules[i];\n      if (skip.indexOf(url) !== -1 || existing_scripts.indexOf(url) !== -1) {\n\tif (!window.requirejs) {\n\t  on_load();\n\t}\n\tcontinue;\n      }\n      var element = document.createElement('script');\n      element.onload = on_load;\n      element.onerror = on_error;\n      element.async = false;\n      element.src = url;\n      element.type = \"module\";\n      console.debug(\"Bokeh: injecting script tag for BokehJS library: \", url);\n      document.head.appendChild(element);\n    }\n    for (const name in js_exports) {\n      var url = js_exports[name];\n      if (skip.indexOf(url) >= 0 || root[name] != null) {\n\tif (!window.requirejs) {\n\t  on_load();\n\t}\n\tcontinue;\n      }\n      var element = document.createElement('script');\n      element.onerror = on_error;\n      element.async = false;\n      element.type = \"module\";\n      console.debug(\"Bokeh: injecting script tag for BokehJS library: \", url);\n      element.textContent = `\n      import ${name} from \"${url}\"\n      window.${name} = ${name}\n      window._bokeh_on_load()\n      `\n      document.head.appendChild(element);\n    }\n    if (!js_urls.length && !js_modules.length) {\n      on_load()\n    }\n  };\n\n  function inject_raw_css(css) {\n    const element = document.createElement(\"style\");\n    element.appendChild(document.createTextNode(css));\n    document.body.appendChild(element);\n  }\n\n  var js_urls = [\"https://cdn.bokeh.org/bokeh/release/bokeh-3.2.1.min.js\", \"https://cdn.bokeh.org/bokeh/release/bokeh-gl-3.2.1.min.js\", \"https://cdn.bokeh.org/bokeh/release/bokeh-widgets-3.2.1.min.js\", \"https://cdn.bokeh.org/bokeh/release/bokeh-tables-3.2.1.min.js\", \"https://cdn.holoviz.org/panel/1.2.1/dist/panel.min.js\"];\n  var js_modules = [];\n  var js_exports = {};\n  var css_urls = [];\n  var inline_js = [    function(Bokeh) {\n      Bokeh.set_log_level(\"info\");\n    },\nfunction(Bokeh) {} // ensure no trailing comma for IE\n  ];\n\n  function run_inline_js() {\n    if ((root.Bokeh !== undefined) || (force === true)) {\n      for (var i = 0; i < inline_js.length; i++) {\n        inline_js[i].call(root, root.Bokeh);\n      }\n      // Cache old bokeh versions\n      if (Bokeh != undefined && !reloading) {\n\tvar NewBokeh = root.Bokeh;\n\tif (Bokeh.versions === undefined) {\n\t  Bokeh.versions = new Map();\n\t}\n\tif (NewBokeh.version !== Bokeh.version) {\n\t  Bokeh.versions.set(NewBokeh.version, NewBokeh)\n\t}\n\troot.Bokeh = Bokeh;\n      }} else if (Date.now() < root._bokeh_timeout) {\n      setTimeout(run_inline_js, 100);\n    } else if (!root._bokeh_failed_load) {\n      console.log(\"Bokeh: BokehJS failed to load within specified timeout.\");\n      root._bokeh_failed_load = true;\n    }\n    root._bokeh_is_initializing = false\n  }\n\n  function load_or_wait() {\n    // Implement a backoff loop that tries to ensure we do not load multiple\n    // versions of Bokeh and its dependencies at the same time.\n    // In recent versions we use the root._bokeh_is_initializing flag\n    // to determine whether there is an ongoing attempt to initialize\n    // bokeh, however for backward compatibility we also try to ensure\n    // that we do not start loading a newer (Panel>=1.0 and Bokeh>3) version\n    // before older versions are fully initialized.\n    if (root._bokeh_is_initializing && Date.now() > root._bokeh_timeout) {\n      root._bokeh_is_initializing = false;\n      root._bokeh_onload_callbacks = undefined;\n      console.log(\"Bokeh: BokehJS was loaded multiple times but one version failed to initialize.\");\n      load_or_wait();\n    } else if (root._bokeh_is_initializing || (typeof root._bokeh_is_initializing === \"undefined\" && root._bokeh_onload_callbacks !== undefined)) {\n      setTimeout(load_or_wait, 100);\n    } else {\n      Bokeh = root.Bokeh;\n      bokeh_loaded = Bokeh != null && (Bokeh.version === py_version || (Bokeh.versions !== undefined && Bokeh.versions.has(py_version)));\n      root._bokeh_is_initializing = true\n      root._bokeh_onload_callbacks = []\n      if (!reloading && (!bokeh_loaded || is_dev)) {\n\troot.Bokeh = undefined;\n      }\n      load_libs(css_urls, js_urls, js_modules, js_exports, function() {\n\tconsole.debug(\"Bokeh: BokehJS plotting callback run at\", now());\n\trun_inline_js();\n      });\n    }\n  }\n  // Give older versions of the autoload script a head-start to ensure\n  // they initialize before we start loading newer version.\n  setTimeout(load_or_wait, 100)\n}(window));",
      "application/vnd.holoviews_load.v0+json": ""
     },
     "metadata": {},
     "output_type": "display_data"
    },
    {
     "data": {
      "application/javascript": "\nif ((window.PyViz === undefined) || (window.PyViz instanceof HTMLElement)) {\n  window.PyViz = {comms: {}, comm_status:{}, kernels:{}, receivers: {}, plot_index: []}\n}\n\n\n    function JupyterCommManager() {\n    }\n\n    JupyterCommManager.prototype.register_target = function(plot_id, comm_id, msg_handler) {\n      if (window.comm_manager || ((window.Jupyter !== undefined) && (Jupyter.notebook.kernel != null))) {\n        var comm_manager = window.comm_manager || Jupyter.notebook.kernel.comm_manager;\n        comm_manager.register_target(comm_id, function(comm) {\n          comm.on_msg(msg_handler);\n        });\n      } else if ((plot_id in window.PyViz.kernels) && (window.PyViz.kernels[plot_id])) {\n        window.PyViz.kernels[plot_id].registerCommTarget(comm_id, function(comm) {\n          comm.onMsg = msg_handler;\n        });\n      } else if (typeof google != 'undefined' && google.colab.kernel != null) {\n        google.colab.kernel.comms.registerTarget(comm_id, (comm) => {\n          var messages = comm.messages[Symbol.asyncIterator]();\n          function processIteratorResult(result) {\n            var message = result.value;\n            console.log(message)\n            var content = {data: message.data, comm_id};\n            var buffers = []\n            for (var buffer of message.buffers || []) {\n              buffers.push(new DataView(buffer))\n            }\n            var metadata = message.metadata || {};\n            var msg = {content, buffers, metadata}\n            msg_handler(msg);\n            return messages.next().then(processIteratorResult);\n          }\n          return messages.next().then(processIteratorResult);\n        })\n      }\n    }\n\n    JupyterCommManager.prototype.get_client_comm = function(plot_id, comm_id, msg_handler) {\n      if (comm_id in window.PyViz.comms) {\n        return window.PyViz.comms[comm_id];\n      } else if (window.comm_manager || ((window.Jupyter !== undefined) && (Jupyter.notebook.kernel != null))) {\n        var comm_manager = window.comm_manager || Jupyter.notebook.kernel.comm_manager;\n        var comm = comm_manager.new_comm(comm_id, {}, {}, {}, comm_id);\n        if (msg_handler) {\n          comm.on_msg(msg_handler);\n        }\n      } else if ((plot_id in window.PyViz.kernels) && (window.PyViz.kernels[plot_id])) {\n        var comm = window.PyViz.kernels[plot_id].connectToComm(comm_id);\n        comm.open();\n        if (msg_handler) {\n          comm.onMsg = msg_handler;\n        }\n      } else if (typeof google != 'undefined' && google.colab.kernel != null) {\n        var comm_promise = google.colab.kernel.comms.open(comm_id)\n        comm_promise.then((comm) => {\n          window.PyViz.comms[comm_id] = comm;\n          if (msg_handler) {\n            var messages = comm.messages[Symbol.asyncIterator]();\n            function processIteratorResult(result) {\n              var message = result.value;\n              var content = {data: message.data};\n              var metadata = message.metadata || {comm_id};\n              var msg = {content, metadata}\n              msg_handler(msg);\n              return messages.next().then(processIteratorResult);\n            }\n            return messages.next().then(processIteratorResult);\n          }\n        }) \n        var sendClosure = (data, metadata, buffers, disposeOnDone) => {\n          return comm_promise.then((comm) => {\n            comm.send(data, metadata, buffers, disposeOnDone);\n          });\n        };\n        var comm = {\n          send: sendClosure\n        };\n      }\n      window.PyViz.comms[comm_id] = comm;\n      return comm;\n    }\n    window.PyViz.comm_manager = new JupyterCommManager();\n    \n\n\nvar JS_MIME_TYPE = 'application/javascript';\nvar HTML_MIME_TYPE = 'text/html';\nvar EXEC_MIME_TYPE = 'application/vnd.holoviews_exec.v0+json';\nvar CLASS_NAME = 'output';\n\n/**\n * Render data to the DOM node\n */\nfunction render(props, node) {\n  var div = document.createElement(\"div\");\n  var script = document.createElement(\"script\");\n  node.appendChild(div);\n  node.appendChild(script);\n}\n\n/**\n * Handle when a new output is added\n */\nfunction handle_add_output(event, handle) {\n  var output_area = handle.output_area;\n  var output = handle.output;\n  if ((output.data == undefined) || (!output.data.hasOwnProperty(EXEC_MIME_TYPE))) {\n    return\n  }\n  var id = output.metadata[EXEC_MIME_TYPE][\"id\"];\n  var toinsert = output_area.element.find(\".\" + CLASS_NAME.split(' ')[0]);\n  if (id !== undefined) {\n    var nchildren = toinsert.length;\n    var html_node = toinsert[nchildren-1].children[0];\n    html_node.innerHTML = output.data[HTML_MIME_TYPE];\n    var scripts = [];\n    var nodelist = html_node.querySelectorAll(\"script\");\n    for (var i in nodelist) {\n      if (nodelist.hasOwnProperty(i)) {\n        scripts.push(nodelist[i])\n      }\n    }\n\n    scripts.forEach( function (oldScript) {\n      var newScript = document.createElement(\"script\");\n      var attrs = [];\n      var nodemap = oldScript.attributes;\n      for (var j in nodemap) {\n        if (nodemap.hasOwnProperty(j)) {\n          attrs.push(nodemap[j])\n        }\n      }\n      attrs.forEach(function(attr) { newScript.setAttribute(attr.name, attr.value) });\n      newScript.appendChild(document.createTextNode(oldScript.innerHTML));\n      oldScript.parentNode.replaceChild(newScript, oldScript);\n    });\n    if (JS_MIME_TYPE in output.data) {\n      toinsert[nchildren-1].children[1].textContent = output.data[JS_MIME_TYPE];\n    }\n    output_area._hv_plot_id = id;\n    if ((window.Bokeh !== undefined) && (id in Bokeh.index)) {\n      window.PyViz.plot_index[id] = Bokeh.index[id];\n    } else {\n      window.PyViz.plot_index[id] = null;\n    }\n  } else if (output.metadata[EXEC_MIME_TYPE][\"server_id\"] !== undefined) {\n    var bk_div = document.createElement(\"div\");\n    bk_div.innerHTML = output.data[HTML_MIME_TYPE];\n    var script_attrs = bk_div.children[0].attributes;\n    for (var i = 0; i < script_attrs.length; i++) {\n      toinsert[toinsert.length - 1].childNodes[1].setAttribute(script_attrs[i].name, script_attrs[i].value);\n    }\n    // store reference to server id on output_area\n    output_area._bokeh_server_id = output.metadata[EXEC_MIME_TYPE][\"server_id\"];\n  }\n}\n\n/**\n * Handle when an output is cleared or removed\n */\nfunction handle_clear_output(event, handle) {\n  var id = handle.cell.output_area._hv_plot_id;\n  var server_id = handle.cell.output_area._bokeh_server_id;\n  if (((id === undefined) || !(id in PyViz.plot_index)) && (server_id !== undefined)) { return; }\n  var comm = window.PyViz.comm_manager.get_client_comm(\"hv-extension-comm\", \"hv-extension-comm\", function () {});\n  if (server_id !== null) {\n    comm.send({event_type: 'server_delete', 'id': server_id});\n    return;\n  } else if (comm !== null) {\n    comm.send({event_type: 'delete', 'id': id});\n  }\n  delete PyViz.plot_index[id];\n  if ((window.Bokeh !== undefined) & (id in window.Bokeh.index)) {\n    var doc = window.Bokeh.index[id].model.document\n    doc.clear();\n    const i = window.Bokeh.documents.indexOf(doc);\n    if (i > -1) {\n      window.Bokeh.documents.splice(i, 1);\n    }\n  }\n}\n\n/**\n * Handle kernel restart event\n */\nfunction handle_kernel_cleanup(event, handle) {\n  delete PyViz.comms[\"hv-extension-comm\"];\n  window.PyViz.plot_index = {}\n}\n\n/**\n * Handle update_display_data messages\n */\nfunction handle_update_output(event, handle) {\n  handle_clear_output(event, {cell: {output_area: handle.output_area}})\n  handle_add_output(event, handle)\n}\n\nfunction register_renderer(events, OutputArea) {\n  function append_mime(data, metadata, element) {\n    // create a DOM node to render to\n    var toinsert = this.create_output_subarea(\n    metadata,\n    CLASS_NAME,\n    EXEC_MIME_TYPE\n    );\n    this.keyboard_manager.register_events(toinsert);\n    // Render to node\n    var props = {data: data, metadata: metadata[EXEC_MIME_TYPE]};\n    render(props, toinsert[0]);\n    element.append(toinsert);\n    return toinsert\n  }\n\n  events.on('output_added.OutputArea', handle_add_output);\n  events.on('output_updated.OutputArea', handle_update_output);\n  events.on('clear_output.CodeCell', handle_clear_output);\n  events.on('delete.Cell', handle_clear_output);\n  events.on('kernel_ready.Kernel', handle_kernel_cleanup);\n\n  OutputArea.prototype.register_mime_type(EXEC_MIME_TYPE, append_mime, {\n    safe: true,\n    index: 0\n  });\n}\n\nif (window.Jupyter !== undefined) {\n  try {\n    var events = require('base/js/events');\n    var OutputArea = require('notebook/js/outputarea').OutputArea;\n    if (OutputArea.prototype.mime_types().indexOf(EXEC_MIME_TYPE) == -1) {\n      register_renderer(events, OutputArea);\n    }\n  } catch(err) {\n  }\n}\n",
      "application/vnd.holoviews_load.v0+json": ""
     },
     "metadata": {},
     "output_type": "display_data"
    },
    {
     "data": {
      "text/html": [
       "<style>*[data-root-id],\n",
       "*[data-root-id] > * {\n",
       "  box-sizing: border-box;\n",
       "  font-family: var(--jp-ui-font-family);\n",
       "  font-size: var(--jp-ui-font-size1);\n",
       "  color: var(--vscode-editor-foreground, var(--jp-ui-font-color1));\n",
       "}\n",
       "\n",
       "/* Override VSCode background color */\n",
       ".cell-output-ipywidget-background:has(\n",
       "    > .cell-output-ipywidget-background > .lm-Widget > *[data-root-id]\n",
       "  ),\n",
       ".cell-output-ipywidget-background:has(> .lm-Widget > *[data-root-id]) {\n",
       "  background-color: transparent !important;\n",
       "}\n",
       "</style>"
      ]
     },
     "metadata": {},
     "output_type": "display_data"
    }
   ],
   "source": [
    "#https://www.kaggle.com/code/simplyab/nba-hall-of-famers-2021-csv (kaggle dataset)\n",
    "import pandas as pd \n",
    "import numpy as np\n",
    "import hvplot.pandas\n",
    "from pathlib import Path"
   ]
  },
  {
   "cell_type": "code",
   "execution_count": 2,
   "metadata": {},
   "outputs": [
    {
     "data": {
      "text/html": [
       "<div>\n",
       "<style scoped>\n",
       "    .dataframe tbody tr th:only-of-type {\n",
       "        vertical-align: middle;\n",
       "    }\n",
       "\n",
       "    .dataframe tbody tr th {\n",
       "        vertical-align: top;\n",
       "    }\n",
       "\n",
       "    .dataframe thead th {\n",
       "        text-align: right;\n",
       "    }\n",
       "</style>\n",
       "<table border=\"1\" class=\"dataframe\">\n",
       "  <thead>\n",
       "    <tr style=\"text-align: right;\">\n",
       "      <th></th>\n",
       "      <th>Name</th>\n",
       "      <th>position</th>\n",
       "      <th>All_star_selections</th>\n",
       "      <th>In_Hall_of_fame</th>\n",
       "      <th>height</th>\n",
       "      <th>weight</th>\n",
       "      <th>born</th>\n",
       "    </tr>\n",
       "  </thead>\n",
       "  <tbody>\n",
       "    <tr>\n",
       "      <th>0</th>\n",
       "      <td>Larry Foust</td>\n",
       "      <td>C</td>\n",
       "      <td>8</td>\n",
       "      <td>0</td>\n",
       "      <td>206</td>\n",
       "      <td>97</td>\n",
       "      <td>1928</td>\n",
       "    </tr>\n",
       "    <tr>\n",
       "      <th>1</th>\n",
       "      <td>Brad Daugherty</td>\n",
       "      <td>C</td>\n",
       "      <td>5</td>\n",
       "      <td>0</td>\n",
       "      <td>213</td>\n",
       "      <td>111</td>\n",
       "      <td>1965</td>\n",
       "    </tr>\n",
       "    <tr>\n",
       "      <th>2</th>\n",
       "      <td>Bill Laimbeer</td>\n",
       "      <td>C</td>\n",
       "      <td>4</td>\n",
       "      <td>0</td>\n",
       "      <td>211</td>\n",
       "      <td>111</td>\n",
       "      <td>1957</td>\n",
       "    </tr>\n",
       "    <tr>\n",
       "      <th>3</th>\n",
       "      <td>Red Kerr</td>\n",
       "      <td>C</td>\n",
       "      <td>3</td>\n",
       "      <td>0</td>\n",
       "      <td>206</td>\n",
       "      <td>104</td>\n",
       "      <td>1932</td>\n",
       "    </tr>\n",
       "    <tr>\n",
       "      <th>4</th>\n",
       "      <td>Red Rocha</td>\n",
       "      <td>C</td>\n",
       "      <td>2</td>\n",
       "      <td>0</td>\n",
       "      <td>206</td>\n",
       "      <td>83</td>\n",
       "      <td>1923</td>\n",
       "    </tr>\n",
       "  </tbody>\n",
       "</table>\n",
       "</div>"
      ],
      "text/plain": [
       "             Name position  All_star_selections  In_Hall_of_fame  height  \\\n",
       "0     Larry Foust        C                    8                0     206   \n",
       "1  Brad Daugherty        C                    5                0     213   \n",
       "2   Bill Laimbeer        C                    4                0     211   \n",
       "3        Red Kerr        C                    3                0     206   \n",
       "4       Red Rocha        C                    2                0     206   \n",
       "\n",
       "   weight  born  \n",
       "0      97  1928  \n",
       "1     111  1965  \n",
       "2     111  1957  \n",
       "3     104  1932  \n",
       "4      83  1923  "
      ]
     },
     "execution_count": 2,
     "metadata": {},
     "output_type": "execute_result"
    }
   ],
   "source": [
    "file_path = Path('./NBA Hall of Famers 2021.csv')\n",
    "df_hof = pd.read_csv(file_path)\n",
    "df_hof.head()"
   ]
  },
  {
   "cell_type": "code",
   "execution_count": 3,
   "metadata": {},
   "outputs": [],
   "source": [
    "# Remove active players (players who have a value of 2 in the Hall of Fame column)\n",
    "df_hof = df_hof[df_hof['In_Hall_of_fame'] != 2]"
   ]
  },
  {
   "cell_type": "code",
   "execution_count": 4,
   "metadata": {},
   "outputs": [
    {
     "data": {
      "text/plain": [
       "0"
      ]
     },
     "execution_count": 4,
     "metadata": {},
     "output_type": "execute_result"
    }
   ],
   "source": [
    "# Check to see if all duplicates are removed \n",
    "df_hof.duplicated().sum()"
   ]
  },
  {
   "cell_type": "code",
   "execution_count": 5,
   "metadata": {},
   "outputs": [
    {
     "data": {
      "text/plain": [
       "In_Hall_of_fame\n",
       "0    244\n",
       "1    130\n",
       "Name: count, dtype: int64"
      ]
     },
     "execution_count": 5,
     "metadata": {},
     "output_type": "execute_result"
    }
   ],
   "source": [
    "# Check how many hall of famers and non hall of famers there are in the dataset \n",
    "df_hof['In_Hall_of_fame'].value_counts()"
   ]
  },
  {
   "cell_type": "code",
   "execution_count": 6,
   "metadata": {},
   "outputs": [
    {
     "data": {
      "text/plain": [
       "array([[<Axes: title={'center': 'All_star_selections'}>,\n",
       "        <Axes: title={'center': 'In_Hall_of_fame'}>],\n",
       "       [<Axes: title={'center': 'height'}>,\n",
       "        <Axes: title={'center': 'weight'}>],\n",
       "       [<Axes: title={'center': 'born'}>, <Axes: >]], dtype=object)"
      ]
     },
     "execution_count": 6,
     "metadata": {},
     "output_type": "execute_result"
    },
    {
     "data": {
      "image/png": "[encoded data removed]",
      "text/plain": [
       "<Figure size 1000x1000 with 6 Axes>"
      ]
     },
     "metadata": {},
     "output_type": "display_data"
    }
   ],
   "source": [
    "# Check to see if data has Gaussian Distribution \n",
    "# Histogram for visual check \n",
    "df_hof.hist(figsize= (10,10))"
   ]
  },
  {
   "cell_type": "code",
   "execution_count": 7,
   "metadata": {},
   "outputs": [
    {
     "name": "stdout",
     "output_type": "stream",
     "text": [
      "All_star_selections is not Gaussian.\n",
      "In_Hall_of_fame is not Gaussian.\n",
      "height is not Gaussian.\n",
      "weight is not Gaussian.\n",
      "born is not Gaussian.\n"
     ]
    }
   ],
   "source": [
    "# Shapiro-Wilk Test for normality\n",
    "from scipy.stats import shapiro\n",
    "norm_test_df = df_hof[['All_star_selections', 'In_Hall_of_fame', 'height', 'weight', 'born']]\n",
    "for column in norm_test_df.columns:\n",
    "    if shapiro(df_hof[column])[1] <0.05:\n",
    "        print(f\"{column} is not Gaussian.\")\n",
    "    else:\n",
    "        print(f\"{column} is Gaussian.\")\n"
   ]
  },
  {
   "cell_type": "code",
   "execution_count": 8,
   "metadata": {},
   "outputs": [
    {
     "name": "stdout",
     "output_type": "stream",
     "text": [
      "All_star_selections is not Gaussian.\n",
      "In_Hall_of_fame is not Gaussian.\n",
      "height is not Gaussian.\n",
      "weight is not Gaussian.\n",
      "born is not Gaussian.\n"
     ]
    }
   ],
   "source": [
    "#Kolmogorov-Smirnov Test for normality\n",
    "from scipy.stats import kstest\n",
    "for column in norm_test_df.columns:\n",
    "    p_value = kstest(norm_test_df[column], 'norm')[1]\n",
    "    if p_value < 0.05:\n",
    "        print(f\"{column} is not Gaussian.\")\n",
    "    else:\n",
    "        print(f\"{column} is Gaussian.\")"
   ]
  },
  {
   "cell_type": "code",
   "execution_count": 9,
   "metadata": {},
   "outputs": [
    {
     "data": {
      "text/html": [
       "<div>\n",
       "<style scoped>\n",
       "    .dataframe tbody tr th:only-of-type {\n",
       "        vertical-align: middle;\n",
       "    }\n",
       "\n",
       "    .dataframe tbody tr th {\n",
       "        vertical-align: top;\n",
       "    }\n",
       "\n",
       "    .dataframe thead th {\n",
       "        text-align: right;\n",
       "    }\n",
       "</style>\n",
       "<table border=\"1\" class=\"dataframe\">\n",
       "  <thead>\n",
       "    <tr style=\"text-align: right;\">\n",
       "      <th></th>\n",
       "      <th>All_star_selections</th>\n",
       "      <th>In_Hall_of_fame</th>\n",
       "      <th>height</th>\n",
       "      <th>weight</th>\n",
       "      <th>born</th>\n",
       "      <th>position_C</th>\n",
       "      <th>position_F</th>\n",
       "      <th>position_G</th>\n",
       "    </tr>\n",
       "  </thead>\n",
       "  <tbody>\n",
       "    <tr>\n",
       "      <th>0</th>\n",
       "      <td>8</td>\n",
       "      <td>0</td>\n",
       "      <td>206</td>\n",
       "      <td>97</td>\n",
       "      <td>1928</td>\n",
       "      <td>1.0</td>\n",
       "      <td>0.0</td>\n",
       "      <td>0.0</td>\n",
       "    </tr>\n",
       "    <tr>\n",
       "      <th>1</th>\n",
       "      <td>5</td>\n",
       "      <td>0</td>\n",
       "      <td>213</td>\n",
       "      <td>111</td>\n",
       "      <td>1965</td>\n",
       "      <td>1.0</td>\n",
       "      <td>0.0</td>\n",
       "      <td>0.0</td>\n",
       "    </tr>\n",
       "    <tr>\n",
       "      <th>2</th>\n",
       "      <td>4</td>\n",
       "      <td>0</td>\n",
       "      <td>211</td>\n",
       "      <td>111</td>\n",
       "      <td>1957</td>\n",
       "      <td>1.0</td>\n",
       "      <td>0.0</td>\n",
       "      <td>0.0</td>\n",
       "    </tr>\n",
       "    <tr>\n",
       "      <th>3</th>\n",
       "      <td>3</td>\n",
       "      <td>0</td>\n",
       "      <td>206</td>\n",
       "      <td>104</td>\n",
       "      <td>1932</td>\n",
       "      <td>1.0</td>\n",
       "      <td>0.0</td>\n",
       "      <td>0.0</td>\n",
       "    </tr>\n",
       "    <tr>\n",
       "      <th>4</th>\n",
       "      <td>2</td>\n",
       "      <td>0</td>\n",
       "      <td>206</td>\n",
       "      <td>83</td>\n",
       "      <td>1923</td>\n",
       "      <td>1.0</td>\n",
       "      <td>0.0</td>\n",
       "      <td>0.0</td>\n",
       "    </tr>\n",
       "  </tbody>\n",
       "</table>\n",
       "</div>"
      ],
      "text/plain": [
       "   All_star_selections  In_Hall_of_fame  height  weight  born  position_C  \\\n",
       "0                    8                0     206      97  1928         1.0   \n",
       "1                    5                0     213     111  1965         1.0   \n",
       "2                    4                0     211     111  1957         1.0   \n",
       "3                    3                0     206     104  1932         1.0   \n",
       "4                    2                0     206      83  1923         1.0   \n",
       "\n",
       "   position_F  position_G  \n",
       "0         0.0         0.0  \n",
       "1         0.0         0.0  \n",
       "2         0.0         0.0  \n",
       "3         0.0         0.0  \n",
       "4         0.0         0.0  "
      ]
     },
     "execution_count": 9,
     "metadata": {},
     "output_type": "execute_result"
    }
   ],
   "source": [
    "# One-hot encoder for categorical data \n",
    "from sklearn.preprocessing import OneHotEncoder\n",
    "df_hof['position'].value_counts()\n",
    "encoder = OneHotEncoder(handle_unknown= 'ignore', sparse_output= False)\n",
    "encoded_array = encoder.fit_transform(df_hof[['position']])\n",
    "encoded_df = pd.DataFrame(encoded_array, columns=encoder.get_feature_names_out(['position']))\n",
    "normalized_data_df = pd.concat([norm_test_df, encoded_df], axis=1)\n",
    "normalized_data_df.head()"
   ]
  },
  {
   "cell_type": "code",
   "execution_count": 20,
   "metadata": {},
   "outputs": [],
   "source": [
    "#Split up Data \n",
    "from sklearn.model_selection import train_test_split\n",
    "from sklearn.metrics import confusion_matrix, accuracy_score, classification_report\n",
    "X = normalized_data_df.copy().drop(columns= 'In_Hall_of_fame', axis=1)\n",
    "y = normalized_data_df['In_Hall_of_fame']\n",
    "X_train, X_test, y_train, y_test = train_test_split(X,y, random_state= 78, stratify= y)\n"
   ]
  },
  {
   "cell_type": "code",
   "execution_count": 11,
   "metadata": {},
   "outputs": [],
   "source": [
    "#Using Minxmaxscaler() because data is not Gaussian \n",
    "from sklearn.preprocessing import MinMaxScaler\n",
    "scaler = MinMaxScaler()\n",
    "X_train_scaled = scaler.fit_transform(X_train)\n",
    "X_test_scaled = scaler.fit_transform(X_test)"
   ]
  },
  {
   "cell_type": "code",
   "execution_count": 12,
   "metadata": {},
   "outputs": [
    {
     "name": "stdout",
     "output_type": "stream",
     "text": [
      " Training data score: 0.8535714285714285\n",
      " Testing data score: 0.8297872340425532\n",
      "\n",
      "     Prediction  Actual Value\n",
      "219           0             0\n",
      "127           0             0\n",
      "262           1             1\n",
      "217           0             0\n",
      "102           0             0\n",
      "\n",
      "Logistic regression model w/ newton-cg solver's accuracy score is: 0.8297872340425532\n",
      "\n",
      "Classification report:\n",
      "\n",
      "              precision    recall  f1-score   support\n",
      "\n",
      "         HOF       0.80      0.98      0.88        61\n",
      "     Not HOF       0.95      0.55      0.69        33\n",
      "\n",
      "    accuracy                           0.83        94\n",
      "   macro avg       0.87      0.76      0.79        94\n",
      "weighted avg       0.85      0.83      0.82        94\n",
      "\n",
      "Confusion Matrix:\n",
      "\n",
      "          Predicted 0  Predicted 1\n",
      "Actual 0           60            1\n",
      "Acutal 1           15           18\n"
     ]
    }
   ],
   "source": [
    "# Logistic Regression Model w/ newton-cg solver\n",
    "from sklearn.linear_model import LogisticRegression\n",
    "lr_model = LogisticRegression(solver='newton-cg', random_state= 78)\n",
    "lr_model.fit(X_train_scaled,y_train)\n",
    "print(f\" Training data score: {lr_model.score(X_train_scaled, y_train)}\")\n",
    "print(f\" Testing data score: {lr_model.score(X_test_scaled, y_test)}\", end=\"\\n\\n\")\n",
    "lr_predictions = lr_model.predict(X_test_scaled)\n",
    "lr_pred_actual_df = pd.DataFrame({\"Prediction\": lr_predictions,\"Actual Value\": y_test})\n",
    "print(lr_pred_actual_df.head(), end=\"\\n\\n\")\n",
    "\n",
    "#Accuracy Score\n",
    "lr_model_ac = accuracy_score(y_test, lr_predictions)\n",
    "print(f\"Logistic regression model w/ newton-cg solver's accuracy score is: {lr_model_ac}\", end=\"\\n\\n\")\n",
    "\n",
    "#Classification Report \n",
    "print(f'Classification report:\\n\\n{classification_report(y_test, lr_predictions, target_names= [\"HOF\", \"Not HOF\"])}')\n",
    "\n",
    "#Confusion Matrix \n",
    "cm = confusion_matrix(y_test, lr_predictions)\n",
    "cm_df = pd.DataFrame(\n",
    "    cm, index = [\"Actual 0\", \"Acutal 1\"], columns = [\"Predicted 0\", \"Predicted 1\"]\n",
    ")\n",
    "print(f'Confusion Matrix:\\n\\n{cm_df}')\n",
    "\n",
    "# Aggregates for the confusion matrix match so we can consider this model to be an accurate model. \n",
    "      "
   ]
  },
  {
   "cell_type": "code",
   "execution_count": 13,
   "metadata": {},
   "outputs": [
    {
     "name": "stdout",
     "output_type": "stream",
     "text": [
      " Training data score: 0.8535714285714285\n",
      " Testing data score: 0.8297872340425532\n",
      "\n",
      "     Prediction  Actual Value\n",
      "219           0             0\n",
      "127           0             0\n",
      "262           1             1\n",
      "217           0             0\n",
      "102           0             0\n",
      "\n",
      "Logistic regression model w/ lbfgs solver's accuracy score is: 0.8297872340425532\n",
      "\n",
      "Classification report:\n",
      "\n",
      "              precision    recall  f1-score   support\n",
      "\n",
      "         HOF       0.80      0.98      0.88        61\n",
      "     Not HOF       0.95      0.55      0.69        33\n",
      "\n",
      "    accuracy                           0.83        94\n",
      "   macro avg       0.87      0.76      0.79        94\n",
      "weighted avg       0.85      0.83      0.82        94\n",
      "\n",
      "Confusion Matrix:\n",
      "\n",
      "          Predicted 0  Predicted 1\n",
      "Actual 0           60            1\n",
      "Acutal 1           15           18\n"
     ]
    }
   ],
   "source": [
    "# Logistic Regression Model w/ lbfgs solver\n",
    "lr_model_2 = LogisticRegression(solver='lbfgs', random_state= 78)\n",
    "lr_model_2.fit(X_train_scaled,y_train)\n",
    "print(f\" Training data score: {lr_model_2.score(X_train_scaled, y_train)}\")\n",
    "print(f\" Testing data score: {lr_model_2.score(X_test_scaled, y_test)}\", end=\"\\n\\n\")\n",
    "lr_predictions_2 = lr_model_2.predict(X_test_scaled)\n",
    "\n",
    "#Dataframe with predicted and actual \n",
    "lr_pred_actual_df_2 = pd.DataFrame({\"Prediction\": lr_predictions_2,\"Actual Value\": y_test})\n",
    "print(lr_pred_actual_df_2.head(), end=\"\\n\\n\")\n",
    "\n",
    "#Accuracy Score\n",
    "lr_model_ac_2 = accuracy_score(y_test, lr_predictions)\n",
    "print(f\"Logistic regression model w/ lbfgs solver's accuracy score is: {lr_model_ac_2}\", end=\"\\n\\n\")\n",
    "\n",
    "#Classification Report \n",
    "print(f'Classification report:\\n\\n{classification_report(y_test, lr_predictions_2, target_names= [\"HOF\", \"Not HOF\"])}')\n",
    "\n",
    "#Confusion Matrix \n",
    "cm_2 = confusion_matrix(y_test, lr_predictions_2)\n",
    "cm_df_2 = pd.DataFrame(\n",
    "    cm_2, index = [\"Actual 0\", \"Actual 1\"], columns = [\"Predicted 0\", \"Predicted 1\"]\n",
    ")\n",
    "print(f'Confusion Matrix:\\n\\n{cm_df}')\n",
    "\n",
    "# Aggregates for the confusion matrix match so we can consider this model to be an accurate model. "
   ]
  },
  {
   "cell_type": "code",
   "execution_count": null,
   "metadata": {},
   "outputs": [],
   "source": [
    "# There was no observed difference between using a newton-cg or lbfgs solver for the Logistic Regression Models \n",
    "# The accuracy scores for the logistic models were the same at around 83%. "
   ]
  },
  {
   "cell_type": "code",
   "execution_count": 14,
   "metadata": {},
   "outputs": [
    {
     "name": "stdout",
     "output_type": "stream",
     "text": [
      " Training data score: 0.8571428571428571\n",
      " Testing data score: 0.8617021276595744\n",
      "\n",
      "     Predictions  Actual\n",
      "219            0       0\n",
      "127            0       0\n",
      "262            1       1\n",
      "217            0       0\n",
      "102            0       0\n",
      "\n",
      "SVC model's accuracy score is: 0.8617021276595744\n",
      "\n",
      "Classification report:\n",
      "\n",
      "              precision    recall  f1-score   support\n",
      "\n",
      "         HOF       0.84      0.97      0.90        61\n",
      "     Not HOF       0.92      0.67      0.77        33\n",
      "\n",
      "    accuracy                           0.86        94\n",
      "   macro avg       0.88      0.82      0.84        94\n",
      "weighted avg       0.87      0.86      0.86        94\n",
      "\n",
      "Confusion Matrix:\n",
      "\n",
      "          Predicted 0  Predicted 1\n",
      "Actual 0           59            2\n",
      "Actual 1           11           22\n"
     ]
    }
   ],
   "source": [
    "# SVM (support vector machine) Model \n",
    "from sklearn.svm import SVC\n",
    "#SVC model's training and testing data score\n",
    "svc_model = SVC(kernel= 'linear')\n",
    "svc_model.fit(X_train_scaled, y_train)\n",
    "svc_predictions = svc_model.predict(X_test_scaled)\n",
    "print(f\" Training data score: {svc_model.score(X_train_scaled, y_train)}\")\n",
    "print(f\" Testing data score: {svc_model.score(X_test_scaled, y_test)}\", end=\"\\n\\n\")\n",
    "\n",
    "#Dataframe with predicted and actual \n",
    "svc_pred_df = pd.DataFrame({\"Predictions\":svc_predictions, \"Actual\":y_test})\n",
    "print(svc_pred_df.head(), end= '\\n\\n')\n",
    "\n",
    "#SVC model accuracy score \n",
    "svc_acc = accuracy_score(y_test, svc_predictions)\n",
    "print(f\"SVC model's accuracy score is: {svc_acc}\", end=\"\\n\\n\")\n",
    "\n",
    "#Classification Report \n",
    "svc_classification = classification_report(y_test, svc_predictions, target_names= ['HOF', 'Not HOF'])\n",
    "print(f'Classification report:\\n\\n{svc_classification}')\n",
    "\n",
    "#Confusion Matrix \n",
    "svc_cm = confusion_matrix(y_test, svc_predictions)\n",
    "svc_cm_df = pd.DataFrame(\n",
    "    svc_cm, index = ['Actual 0', 'Actual 1'], columns = [\"Predicted 0\", \"Predicted 1\"]\n",
    ")\n",
    "print(f'Confusion Matrix:\\n\\n{svc_cm_df}')"
   ]
  },
  {
   "cell_type": "code",
   "execution_count": 15,
   "metadata": {},
   "outputs": [
    {
     "name": "stdout",
     "output_type": "stream",
     "text": [
      " Training data score: 0.8178571428571428\n",
      " Testing data score: 0.6170212765957447\n",
      "\n"
     ]
    }
   ],
   "source": [
    "# Naive Bayes Classifier \n",
    "from sklearn.naive_bayes import GaussianNB\n",
    "nb_model = GaussianNB()\n",
    "nb_model.fit(X_train_scaled, y_train)\n",
    "nb_predictions = nb_model.predict(X_test_scaled)\n",
    "#Training and testing data score\n",
    "print(f\" Training data score: {nb_model.score(X_train_scaled, y_train)}\")\n",
    "print(f\" Testing data score: {nb_model.score(X_test_scaled, y_test)}\", end=\"\\n\\n\")\n"
   ]
  },
  {
   "cell_type": "code",
   "execution_count": 16,
   "metadata": {},
   "outputs": [
    {
     "name": "stdout",
     "output_type": "stream",
     "text": [
      "K-Nearest Neighbors model's accuracy score is: 0.8085106382978723\n"
     ]
    }
   ],
   "source": [
    "# K-Nearest Neighbors \n",
    "from sklearn.neighbors import KNeighborsClassifier\n",
    "kn_model = KNeighborsClassifier()\n",
    "kn_model.fit(X_train_scaled, y_train)\n",
    "kn_predictions = kn_model.predict(X_test_scaled)\n",
    "print(f\"K-Nearest Neighbors model's accuracy score is: {accuracy_score(y_test, kn_predictions)}\")"
   ]
  },
  {
   "cell_type": "code",
   "execution_count": 17,
   "metadata": {},
   "outputs": [
    {
     "name": "stdout",
     "output_type": "stream",
     "text": [
      "Decision Tree model's accuracy score is: 0.7446808510638298\n"
     ]
    }
   ],
   "source": [
    "#Decision Tree \n",
    "from sklearn import tree\n",
    "tree_model = tree.DecisionTreeClassifier()\n",
    "tree_model.fit(X_train_scaled, y_train)\n",
    "tree_predictions = tree_model.predict(X_test_scaled)\n",
    "print(f\"Decision Tree model's accuracy score is: {accuracy_score(y_test, tree_predictions)}\")"
   ]
  },
  {
   "cell_type": "code",
   "execution_count": 23,
   "metadata": {},
   "outputs": [
    {
     "name": "stdout",
     "output_type": "stream",
     "text": [
      "Model: \"sequential_3\"\n",
      "_________________________________________________________________\n",
      " Layer (type)                Output Shape              Param #   \n",
      "=================================================================\n",
      " dense_6 (Dense)             (None, 50)                400       \n",
      "                                                                 \n",
      " dense_7 (Dense)             (None, 1)                 51        \n",
      "                                                                 \n",
      "=================================================================\n",
      "Total params: 451 (1.76 KB)\n",
      "Trainable params: 451 (1.76 KB)\n",
      "Non-trainable params: 0 (0.00 Byte)\n",
      "_________________________________________________________________\n",
      "Epoch 1/100\n",
      "9/9 [==============================] - 3s 9ms/step - loss: 0.6889 - accuracy: 0.6071\n",
      "Epoch 2/100\n",
      "9/9 [==============================] - 0s 12ms/step - loss: 0.6694 - accuracy: 0.6429\n",
      "Epoch 3/100\n",
      "9/9 [==============================] - 0s 12ms/step - loss: 0.6535 - accuracy: 0.6571\n",
      "Epoch 4/100\n",
      "9/9 [==============================] - 0s 10ms/step - loss: 0.6395 - accuracy: 0.6571\n",
      "Epoch 5/100\n",
      "9/9 [==============================] - 0s 14ms/step - loss: 0.6283 - accuracy: 0.6536\n",
      "Epoch 6/100\n",
      "9/9 [==============================] - 0s 16ms/step - loss: 0.6170 - accuracy: 0.6536\n",
      "Epoch 7/100\n",
      "9/9 [==============================] - 0s 10ms/step - loss: 0.6072 - accuracy: 0.6536\n",
      "Epoch 8/100\n",
      "9/9 [==============================] - 0s 13ms/step - loss: 0.5981 - accuracy: 0.6536\n",
      "Epoch 9/100\n",
      "9/9 [==============================] - 0s 14ms/step - loss: 0.5899 - accuracy: 0.6536\n",
      "Epoch 10/100\n",
      "9/9 [==============================] - 0s 14ms/step - loss: 0.5817 - accuracy: 0.6536\n",
      "Epoch 11/100\n",
      "9/9 [==============================] - 0s 16ms/step - loss: 0.5746 - accuracy: 0.6536\n",
      "Epoch 12/100\n",
      "9/9 [==============================] - 0s 13ms/step - loss: 0.5665 - accuracy: 0.6643\n",
      "Epoch 13/100\n",
      "9/9 [==============================] - 0s 28ms/step - loss: 0.5591 - accuracy: 0.6821\n",
      "Epoch 14/100\n",
      "9/9 [==============================] - 0s 11ms/step - loss: 0.5514 - accuracy: 0.6964\n",
      "Epoch 15/100\n",
      "9/9 [==============================] - 0s 13ms/step - loss: 0.5446 - accuracy: 0.6964\n",
      "Epoch 16/100\n",
      "9/9 [==============================] - 0s 13ms/step - loss: 0.5372 - accuracy: 0.7214\n",
      "Epoch 17/100\n",
      "9/9 [==============================] - 0s 14ms/step - loss: 0.5298 - accuracy: 0.7286\n",
      "Epoch 18/100\n",
      "9/9 [==============================] - 0s 10ms/step - loss: 0.5225 - accuracy: 0.7464\n",
      "Epoch 19/100\n",
      "9/9 [==============================] - 0s 13ms/step - loss: 0.5143 - accuracy: 0.7607\n",
      "Epoch 20/100\n",
      "9/9 [==============================] - 0s 9ms/step - loss: 0.5055 - accuracy: 0.7643\n",
      "Epoch 21/100\n",
      "9/9 [==============================] - 0s 10ms/step - loss: 0.4965 - accuracy: 0.7643\n",
      "Epoch 22/100\n",
      "9/9 [==============================] - 0s 10ms/step - loss: 0.4884 - accuracy: 0.7821\n",
      "Epoch 23/100\n",
      "9/9 [==============================] - 0s 11ms/step - loss: 0.4795 - accuracy: 0.7821\n",
      "Epoch 24/100\n",
      "9/9 [==============================] - 0s 10ms/step - loss: 0.4717 - accuracy: 0.7821\n",
      "Epoch 25/100\n",
      "9/9 [==============================] - 0s 10ms/step - loss: 0.4633 - accuracy: 0.7893\n",
      "Epoch 26/100\n",
      "9/9 [==============================] - 0s 11ms/step - loss: 0.4559 - accuracy: 0.7964\n",
      "Epoch 27/100\n",
      "9/9 [==============================] - 0s 10ms/step - loss: 0.4491 - accuracy: 0.8000\n",
      "Epoch 28/100\n",
      "9/9 [==============================] - 0s 14ms/step - loss: 0.4415 - accuracy: 0.8071\n",
      "Epoch 29/100\n",
      "9/9 [==============================] - 0s 15ms/step - loss: 0.4347 - accuracy: 0.8214\n",
      "Epoch 30/100\n",
      "9/9 [==============================] - 0s 20ms/step - loss: 0.4280 - accuracy: 0.8286\n",
      "Epoch 31/100\n",
      "9/9 [==============================] - 0s 13ms/step - loss: 0.4216 - accuracy: 0.8429\n",
      "Epoch 32/100\n",
      "9/9 [==============================] - 0s 13ms/step - loss: 0.4145 - accuracy: 0.8393\n",
      "Epoch 33/100\n",
      "9/9 [==============================] - 0s 14ms/step - loss: 0.4072 - accuracy: 0.8429\n",
      "Epoch 34/100\n",
      "9/9 [==============================] - 0s 14ms/step - loss: 0.4005 - accuracy: 0.8393\n",
      "Epoch 35/100\n",
      "9/9 [==============================] - 0s 19ms/step - loss: 0.3946 - accuracy: 0.8321\n",
      "Epoch 36/100\n",
      "9/9 [==============================] - 0s 14ms/step - loss: 0.3890 - accuracy: 0.8321\n",
      "Epoch 37/100\n",
      "9/9 [==============================] - 0s 22ms/step - loss: 0.3846 - accuracy: 0.8321\n",
      "Epoch 38/100\n",
      "9/9 [==============================] - 0s 13ms/step - loss: 0.3790 - accuracy: 0.8429\n",
      "Epoch 39/100\n",
      "9/9 [==============================] - 0s 13ms/step - loss: 0.3760 - accuracy: 0.8500\n",
      "Epoch 40/100\n",
      "9/9 [==============================] - 0s 15ms/step - loss: 0.3705 - accuracy: 0.8500\n",
      "Epoch 41/100\n",
      "9/9 [==============================] - 0s 17ms/step - loss: 0.3663 - accuracy: 0.8500\n",
      "Epoch 42/100\n",
      "9/9 [==============================] - 0s 17ms/step - loss: 0.3624 - accuracy: 0.8500\n",
      "Epoch 43/100\n",
      "9/9 [==============================] - 0s 17ms/step - loss: 0.3588 - accuracy: 0.8571\n",
      "Epoch 44/100\n",
      "9/9 [==============================] - 0s 14ms/step - loss: 0.3567 - accuracy: 0.8536\n",
      "Epoch 45/100\n",
      "9/9 [==============================] - 0s 10ms/step - loss: 0.3526 - accuracy: 0.8571\n",
      "Epoch 46/100\n",
      "9/9 [==============================] - 0s 10ms/step - loss: 0.3491 - accuracy: 0.8607\n",
      "Epoch 47/100\n",
      "9/9 [==============================] - 0s 7ms/step - loss: 0.3468 - accuracy: 0.8607\n",
      "Epoch 48/100\n",
      "9/9 [==============================] - 0s 13ms/step - loss: 0.3442 - accuracy: 0.8607\n",
      "Epoch 49/100\n",
      "9/9 [==============================] - 0s 14ms/step - loss: 0.3430 - accuracy: 0.8571\n",
      "Epoch 50/100\n",
      "9/9 [==============================] - 0s 11ms/step - loss: 0.3398 - accuracy: 0.8571\n",
      "Epoch 51/100\n",
      "9/9 [==============================] - 0s 10ms/step - loss: 0.3374 - accuracy: 0.8607\n",
      "Epoch 52/100\n",
      "9/9 [==============================] - 0s 12ms/step - loss: 0.3353 - accuracy: 0.8643\n",
      "Epoch 53/100\n",
      "9/9 [==============================] - 0s 10ms/step - loss: 0.3340 - accuracy: 0.8571\n",
      "Epoch 54/100\n",
      "9/9 [==============================] - 0s 12ms/step - loss: 0.3315 - accuracy: 0.8643\n",
      "Epoch 55/100\n",
      "9/9 [==============================] - 0s 11ms/step - loss: 0.3300 - accuracy: 0.8643\n",
      "Epoch 56/100\n",
      "9/9 [==============================] - 0s 13ms/step - loss: 0.3286 - accuracy: 0.8607\n",
      "Epoch 57/100\n",
      "9/9 [==============================] - 0s 13ms/step - loss: 0.3269 - accuracy: 0.8643\n",
      "Epoch 58/100\n",
      "9/9 [==============================] - 0s 12ms/step - loss: 0.3262 - accuracy: 0.8643\n",
      "Epoch 59/100\n",
      "9/9 [==============================] - 0s 14ms/step - loss: 0.3243 - accuracy: 0.8643\n",
      "Epoch 60/100\n",
      "9/9 [==============================] - 0s 13ms/step - loss: 0.3231 - accuracy: 0.8643\n",
      "Epoch 61/100\n",
      "9/9 [==============================] - 0s 19ms/step - loss: 0.3216 - accuracy: 0.8643\n",
      "Epoch 62/100\n",
      "9/9 [==============================] - 0s 23ms/step - loss: 0.3208 - accuracy: 0.8643\n",
      "Epoch 63/100\n",
      "9/9 [==============================] - 0s 32ms/step - loss: 0.3212 - accuracy: 0.8607\n",
      "Epoch 64/100\n",
      "9/9 [==============================] - 0s 14ms/step - loss: 0.3192 - accuracy: 0.8643\n",
      "Epoch 65/100\n",
      "9/9 [==============================] - 0s 20ms/step - loss: 0.3180 - accuracy: 0.8607\n",
      "Epoch 66/100\n",
      "9/9 [==============================] - 0s 19ms/step - loss: 0.3174 - accuracy: 0.8607\n",
      "Epoch 67/100\n",
      "9/9 [==============================] - 0s 14ms/step - loss: 0.3166 - accuracy: 0.8607\n",
      "Epoch 68/100\n",
      "9/9 [==============================] - 0s 16ms/step - loss: 0.3159 - accuracy: 0.8679\n",
      "Epoch 69/100\n",
      "9/9 [==============================] - 0s 14ms/step - loss: 0.3154 - accuracy: 0.8607\n",
      "Epoch 70/100\n",
      "9/9 [==============================] - 0s 14ms/step - loss: 0.3147 - accuracy: 0.8679\n",
      "Epoch 71/100\n",
      "9/9 [==============================] - 0s 12ms/step - loss: 0.3137 - accuracy: 0.8607\n",
      "Epoch 72/100\n",
      "9/9 [==============================] - 0s 17ms/step - loss: 0.3136 - accuracy: 0.8607\n",
      "Epoch 73/100\n",
      "9/9 [==============================] - 0s 12ms/step - loss: 0.3127 - accuracy: 0.8607\n",
      "Epoch 74/100\n",
      "9/9 [==============================] - 0s 13ms/step - loss: 0.3123 - accuracy: 0.8679\n",
      "Epoch 75/100\n",
      "9/9 [==============================] - 0s 12ms/step - loss: 0.3117 - accuracy: 0.8679\n",
      "Epoch 76/100\n",
      "9/9 [==============================] - 0s 10ms/step - loss: 0.3116 - accuracy: 0.8643\n",
      "Epoch 77/100\n",
      "9/9 [==============================] - 0s 15ms/step - loss: 0.3113 - accuracy: 0.8643\n",
      "Epoch 78/100\n",
      "9/9 [==============================] - 0s 23ms/step - loss: 0.3103 - accuracy: 0.8679\n",
      "Epoch 79/100\n",
      "9/9 [==============================] - 0s 13ms/step - loss: 0.3104 - accuracy: 0.8679\n",
      "Epoch 80/100\n",
      "9/9 [==============================] - 0s 10ms/step - loss: 0.3102 - accuracy: 0.8643\n",
      "Epoch 81/100\n",
      "9/9 [==============================] - 0s 11ms/step - loss: 0.3098 - accuracy: 0.8714\n",
      "Epoch 82/100\n",
      "9/9 [==============================] - 0s 16ms/step - loss: 0.3103 - accuracy: 0.8679\n",
      "Epoch 83/100\n",
      "9/9 [==============================] - 0s 14ms/step - loss: 0.3090 - accuracy: 0.8679\n",
      "Epoch 84/100\n",
      "9/9 [==============================] - 0s 14ms/step - loss: 0.3084 - accuracy: 0.8679\n",
      "Epoch 85/100\n",
      "9/9 [==============================] - 0s 20ms/step - loss: 0.3079 - accuracy: 0.8679\n",
      "Epoch 86/100\n",
      "9/9 [==============================] - 0s 15ms/step - loss: 0.3077 - accuracy: 0.8679\n",
      "Epoch 87/100\n",
      "9/9 [==============================] - 0s 17ms/step - loss: 0.3075 - accuracy: 0.8643\n",
      "Epoch 88/100\n",
      "9/9 [==============================] - 0s 9ms/step - loss: 0.3071 - accuracy: 0.8643\n",
      "Epoch 89/100\n",
      "9/9 [==============================] - 0s 11ms/step - loss: 0.3074 - accuracy: 0.8679\n",
      "Epoch 90/100\n",
      "9/9 [==============================] - 0s 17ms/step - loss: 0.3067 - accuracy: 0.8679\n",
      "Epoch 91/100\n",
      "9/9 [==============================] - 0s 13ms/step - loss: 0.3063 - accuracy: 0.8643\n",
      "Epoch 92/100\n",
      "9/9 [==============================] - 0s 12ms/step - loss: 0.3061 - accuracy: 0.8679\n",
      "Epoch 93/100\n",
      "9/9 [==============================] - 0s 17ms/step - loss: 0.3062 - accuracy: 0.8643\n",
      "Epoch 94/100\n",
      "9/9 [==============================] - 0s 25ms/step - loss: 0.3061 - accuracy: 0.8643\n",
      "Epoch 95/100\n",
      "9/9 [==============================] - 0s 12ms/step - loss: 0.3056 - accuracy: 0.8643\n",
      "Epoch 96/100\n",
      "9/9 [==============================] - 0s 12ms/step - loss: 0.3052 - accuracy: 0.8643\n",
      "Epoch 97/100\n",
      "9/9 [==============================] - 0s 11ms/step - loss: 0.3052 - accuracy: 0.8643\n",
      "Epoch 98/100\n",
      "9/9 [==============================] - 0s 16ms/step - loss: 0.3050 - accuracy: 0.8643\n",
      "Epoch 99/100\n",
      "9/9 [==============================] - 0s 15ms/step - loss: 0.3048 - accuracy: 0.8643\n",
      "Epoch 100/100\n",
      "9/9 [==============================] - 0s 16ms/step - loss: 0.3048 - accuracy: 0.8643\n"
     ]
    }
   ],
   "source": [
    "#Neural Network \n",
    "import tensorflow as tf \n",
    "nn_model = tf.keras.models.Sequential()\n",
    "\n",
    "#Input Layer and Output Layer \n",
    "nn_model.add(tf.keras.layers.Dense(units=50, activation= 'relu', input_dim = 7))\n",
    "nn_model.add(tf.keras.layers.Dense(units=1, activation= 'sigmoid'))\n",
    "\n",
    "#Summary of nn model \n",
    "nn_model.summary()\n",
    "\n",
    "#Model Compilation \n",
    "nn_model.compile(loss= 'binary_crossentropy', optimizer = 'adam', metrics = ['accuracy'])\n",
    "\n",
    "fit_model = nn_model.fit(X_train_scaled, y_train, epochs = 100)"
   ]
  },
  {
   "cell_type": "code",
   "execution_count": 24,
   "metadata": {},
   "outputs": [
    {
     "name": "stdout",
     "output_type": "stream",
     "text": [
      "3/3 - 0s - loss: 0.3426 - accuracy: 0.8617 - 383ms/epoch - 128ms/step\n"
     ]
    }
   ],
   "source": [
    "model_loss, model_accuracy = nn_model.evaluate(X_test_scaled, y_test, verbose = 2)"
   ]
  }
 ],
 "metadata": {
  "kernelspec": {
   "display_name": "base",
   "language": "python",
   "name": "python3"
  },
  "language_info": {
   "codemirror_mode": {
    "name": "ipython",
    "version": 3
   },
   "file_extension": ".py",
   "mimetype": "text/x-python",
   "name": "python",
   "nbconvert_exporter": "python",
   "pygments_lexer": "ipython3",
   "version": "3.9.17"
  },
  "orig_nbformat": 4
 },
 "nbformat": 4,
 "nbformat_minor": 2
}
